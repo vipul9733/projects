{
  "cells": [
    {
      "cell_type": "code",
      "execution_count": null,
      "metadata": {
        "id": "xU0Xdt0gWsjv"
      },
      "outputs": [],
      "source": [
        "import pandas as pd\n",
        "import numpy as np\n",
        "import difflib\n",
        "import seaborn as sns\n",
        "import matplotlib.pyplot as plt\n",
        "from sklearn.feature_extraction.text import TfidfVectorizer\n",
        "from sklearn.metrics.pairwise import cosine_similarity\n",
        "import warnings\n",
        "warnings.filterwarnings('ignore')"
      ]
    },
    {
      "cell_type": "markdown",
      "metadata": {
        "id": "CMhA9-65kFTz"
      },
      "source": [
        "#Data Collection and Pre-Processing"
      ]
    },
    {
      "cell_type": "code",
      "execution_count": null,
      "metadata": {
        "id": "luuNzhqGW0-M"
      },
      "outputs": [],
      "source": [
        "movies_data=pd.read_csv('/content/movies (1).csv')"
      ]
    },
    {
      "cell_type": "code",
      "execution_count": null,
      "metadata": {
        "colab": {
          "base_uri": "https://localhost:8080/",
          "height": 431
        },
        "id": "8L4o_qmJRNdd",
        "outputId": "20bdc413-ba4f-4c7c-fd13-08c38f202c8b"
      },
      "outputs": [
        {
          "output_type": "execute_result",
          "data": {
            "text/plain": [
              "   index     budget                                    genres  \\\n",
              "0      0  237000000  Action Adventure Fantasy Science Fiction   \n",
              "1      1  300000000                  Adventure Fantasy Action   \n",
              "\n",
              "                                       homepage     id  \\\n",
              "0                   http://www.avatarmovie.com/  19995   \n",
              "1  http://disney.go.com/disneypictures/pirates/    285   \n",
              "\n",
              "                                            keywords original_language  \\\n",
              "0  culture clash future space war space colony so...                en   \n",
              "1  ocean drug abuse exotic island east india trad...                en   \n",
              "\n",
              "                             original_title  \\\n",
              "0                                    Avatar   \n",
              "1  Pirates of the Caribbean: At World's End   \n",
              "\n",
              "                                            overview  popularity  ... runtime  \\\n",
              "0  In the 22nd century, a paraplegic Marine is di...  150.437577  ...   162.0   \n",
              "1  Captain Barbossa, long believed to be dead, ha...  139.082615  ...   169.0   \n",
              "\n",
              "                                    spoken_languages    status  \\\n",
              "0  [{\"iso_639_1\": \"en\", \"name\": \"English\"}, {\"iso...  Released   \n",
              "1           [{\"iso_639_1\": \"en\", \"name\": \"English\"}]  Released   \n",
              "\n",
              "                                          tagline  \\\n",
              "0                     Enter the World of Pandora.   \n",
              "1  At the end of the world, the adventure begins.   \n",
              "\n",
              "                                      title vote_average vote_count  \\\n",
              "0                                    Avatar          7.2      11800   \n",
              "1  Pirates of the Caribbean: At World's End          6.9       4500   \n",
              "\n",
              "                                                cast  \\\n",
              "0  Sam Worthington Zoe Saldana Sigourney Weaver S...   \n",
              "1  Johnny Depp Orlando Bloom Keira Knightley Stel...   \n",
              "\n",
              "                                                crew        director  \n",
              "0  [{'name': 'Stephen E. Rivkin', 'gender': 0, 'd...   James Cameron  \n",
              "1  [{'name': 'Dariusz Wolski', 'gender': 2, 'depa...  Gore Verbinski  \n",
              "\n",
              "[2 rows x 24 columns]"
            ],
            "text/html": [
              "\n",
              "  <div id=\"df-67593bc7-6b58-4150-8e6f-9b0f86b6714c\">\n",
              "    <div class=\"colab-df-container\">\n",
              "      <div>\n",
              "<style scoped>\n",
              "    .dataframe tbody tr th:only-of-type {\n",
              "        vertical-align: middle;\n",
              "    }\n",
              "\n",
              "    .dataframe tbody tr th {\n",
              "        vertical-align: top;\n",
              "    }\n",
              "\n",
              "    .dataframe thead th {\n",
              "        text-align: right;\n",
              "    }\n",
              "</style>\n",
              "<table border=\"1\" class=\"dataframe\">\n",
              "  <thead>\n",
              "    <tr style=\"text-align: right;\">\n",
              "      <th></th>\n",
              "      <th>index</th>\n",
              "      <th>budget</th>\n",
              "      <th>genres</th>\n",
              "      <th>homepage</th>\n",
              "      <th>id</th>\n",
              "      <th>keywords</th>\n",
              "      <th>original_language</th>\n",
              "      <th>original_title</th>\n",
              "      <th>overview</th>\n",
              "      <th>popularity</th>\n",
              "      <th>...</th>\n",
              "      <th>runtime</th>\n",
              "      <th>spoken_languages</th>\n",
              "      <th>status</th>\n",
              "      <th>tagline</th>\n",
              "      <th>title</th>\n",
              "      <th>vote_average</th>\n",
              "      <th>vote_count</th>\n",
              "      <th>cast</th>\n",
              "      <th>crew</th>\n",
              "      <th>director</th>\n",
              "    </tr>\n",
              "  </thead>\n",
              "  <tbody>\n",
              "    <tr>\n",
              "      <th>0</th>\n",
              "      <td>0</td>\n",
              "      <td>237000000</td>\n",
              "      <td>Action Adventure Fantasy Science Fiction</td>\n",
              "      <td>http://www.avatarmovie.com/</td>\n",
              "      <td>19995</td>\n",
              "      <td>culture clash future space war space colony so...</td>\n",
              "      <td>en</td>\n",
              "      <td>Avatar</td>\n",
              "      <td>In the 22nd century, a paraplegic Marine is di...</td>\n",
              "      <td>150.437577</td>\n",
              "      <td>...</td>\n",
              "      <td>162.0</td>\n",
              "      <td>[{\"iso_639_1\": \"en\", \"name\": \"English\"}, {\"iso...</td>\n",
              "      <td>Released</td>\n",
              "      <td>Enter the World of Pandora.</td>\n",
              "      <td>Avatar</td>\n",
              "      <td>7.2</td>\n",
              "      <td>11800</td>\n",
              "      <td>Sam Worthington Zoe Saldana Sigourney Weaver S...</td>\n",
              "      <td>[{'name': 'Stephen E. Rivkin', 'gender': 0, 'd...</td>\n",
              "      <td>James Cameron</td>\n",
              "    </tr>\n",
              "    <tr>\n",
              "      <th>1</th>\n",
              "      <td>1</td>\n",
              "      <td>300000000</td>\n",
              "      <td>Adventure Fantasy Action</td>\n",
              "      <td>http://disney.go.com/disneypictures/pirates/</td>\n",
              "      <td>285</td>\n",
              "      <td>ocean drug abuse exotic island east india trad...</td>\n",
              "      <td>en</td>\n",
              "      <td>Pirates of the Caribbean: At World's End</td>\n",
              "      <td>Captain Barbossa, long believed to be dead, ha...</td>\n",
              "      <td>139.082615</td>\n",
              "      <td>...</td>\n",
              "      <td>169.0</td>\n",
              "      <td>[{\"iso_639_1\": \"en\", \"name\": \"English\"}]</td>\n",
              "      <td>Released</td>\n",
              "      <td>At the end of the world, the adventure begins.</td>\n",
              "      <td>Pirates of the Caribbean: At World's End</td>\n",
              "      <td>6.9</td>\n",
              "      <td>4500</td>\n",
              "      <td>Johnny Depp Orlando Bloom Keira Knightley Stel...</td>\n",
              "      <td>[{'name': 'Dariusz Wolski', 'gender': 2, 'depa...</td>\n",
              "      <td>Gore Verbinski</td>\n",
              "    </tr>\n",
              "  </tbody>\n",
              "</table>\n",
              "<p>2 rows × 24 columns</p>\n",
              "</div>\n",
              "      <button class=\"colab-df-convert\" onclick=\"convertToInteractive('df-67593bc7-6b58-4150-8e6f-9b0f86b6714c')\"\n",
              "              title=\"Convert this dataframe to an interactive table.\"\n",
              "              style=\"display:none;\">\n",
              "        \n",
              "  <svg xmlns=\"http://www.w3.org/2000/svg\" height=\"24px\"viewBox=\"0 0 24 24\"\n",
              "       width=\"24px\">\n",
              "    <path d=\"M0 0h24v24H0V0z\" fill=\"none\"/>\n",
              "    <path d=\"M18.56 5.44l.94 2.06.94-2.06 2.06-.94-2.06-.94-.94-2.06-.94 2.06-2.06.94zm-11 1L8.5 8.5l.94-2.06 2.06-.94-2.06-.94L8.5 2.5l-.94 2.06-2.06.94zm10 10l.94 2.06.94-2.06 2.06-.94-2.06-.94-.94-2.06-.94 2.06-2.06.94z\"/><path d=\"M17.41 7.96l-1.37-1.37c-.4-.4-.92-.59-1.43-.59-.52 0-1.04.2-1.43.59L10.3 9.45l-7.72 7.72c-.78.78-.78 2.05 0 2.83L4 21.41c.39.39.9.59 1.41.59.51 0 1.02-.2 1.41-.59l7.78-7.78 2.81-2.81c.8-.78.8-2.07 0-2.86zM5.41 20L4 18.59l7.72-7.72 1.47 1.35L5.41 20z\"/>\n",
              "  </svg>\n",
              "      </button>\n",
              "      \n",
              "  <style>\n",
              "    .colab-df-container {\n",
              "      display:flex;\n",
              "      flex-wrap:wrap;\n",
              "      gap: 12px;\n",
              "    }\n",
              "\n",
              "    .colab-df-convert {\n",
              "      background-color: #E8F0FE;\n",
              "      border: none;\n",
              "      border-radius: 50%;\n",
              "      cursor: pointer;\n",
              "      display: none;\n",
              "      fill: #1967D2;\n",
              "      height: 32px;\n",
              "      padding: 0 0 0 0;\n",
              "      width: 32px;\n",
              "    }\n",
              "\n",
              "    .colab-df-convert:hover {\n",
              "      background-color: #E2EBFA;\n",
              "      box-shadow: 0px 1px 2px rgba(60, 64, 67, 0.3), 0px 1px 3px 1px rgba(60, 64, 67, 0.15);\n",
              "      fill: #174EA6;\n",
              "    }\n",
              "\n",
              "    [theme=dark] .colab-df-convert {\n",
              "      background-color: #3B4455;\n",
              "      fill: #D2E3FC;\n",
              "    }\n",
              "\n",
              "    [theme=dark] .colab-df-convert:hover {\n",
              "      background-color: #434B5C;\n",
              "      box-shadow: 0px 1px 3px 1px rgba(0, 0, 0, 0.15);\n",
              "      filter: drop-shadow(0px 1px 2px rgba(0, 0, 0, 0.3));\n",
              "      fill: #FFFFFF;\n",
              "    }\n",
              "  </style>\n",
              "\n",
              "      <script>\n",
              "        const buttonEl =\n",
              "          document.querySelector('#df-67593bc7-6b58-4150-8e6f-9b0f86b6714c button.colab-df-convert');\n",
              "        buttonEl.style.display =\n",
              "          google.colab.kernel.accessAllowed ? 'block' : 'none';\n",
              "\n",
              "        async function convertToInteractive(key) {\n",
              "          const element = document.querySelector('#df-67593bc7-6b58-4150-8e6f-9b0f86b6714c');\n",
              "          const dataTable =\n",
              "            await google.colab.kernel.invokeFunction('convertToInteractive',\n",
              "                                                     [key], {});\n",
              "          if (!dataTable) return;\n",
              "\n",
              "          const docLinkHtml = 'Like what you see? Visit the ' +\n",
              "            '<a target=\"_blank\" href=https://colab.research.google.com/notebooks/data_table.ipynb>data table notebook</a>'\n",
              "            + ' to learn more about interactive tables.';\n",
              "          element.innerHTML = '';\n",
              "          dataTable['output_type'] = 'display_data';\n",
              "          await google.colab.output.renderOutput(dataTable, element);\n",
              "          const docLink = document.createElement('div');\n",
              "          docLink.innerHTML = docLinkHtml;\n",
              "          element.appendChild(docLink);\n",
              "        }\n",
              "      </script>\n",
              "    </div>\n",
              "  </div>\n",
              "  "
            ]
          },
          "metadata": {},
          "execution_count": 3
        }
      ],
      "source": [
        "movies_data.head(2)"
      ]
    },
    {
      "cell_type": "code",
      "execution_count": null,
      "metadata": {
        "colab": {
          "base_uri": "https://localhost:8080/"
        },
        "id": "uNzjA0a7oeyZ",
        "outputId": "ac763b56-18a8-4ebf-a901-24baa48e6977"
      },
      "outputs": [
        {
          "output_type": "execute_result",
          "data": {
            "text/plain": [
              "Index(['index', 'budget', 'genres', 'homepage', 'id', 'keywords',\n",
              "       'original_language', 'original_title', 'overview', 'popularity',\n",
              "       'production_companies', 'production_countries', 'release_date',\n",
              "       'revenue', 'runtime', 'spoken_languages', 'status', 'tagline', 'title',\n",
              "       'vote_average', 'vote_count', 'cast', 'crew', 'director'],\n",
              "      dtype='object')"
            ]
          },
          "metadata": {},
          "execution_count": 4
        }
      ],
      "source": [
        "  movies_data.keys()"
      ]
    },
    {
      "cell_type": "code",
      "source": [
        "movies_data.shape"
      ],
      "metadata": {
        "colab": {
          "base_uri": "https://localhost:8080/"
        },
        "id": "aqTWLgxd54Pm",
        "outputId": "fc692f00-8f1d-41e6-bff9-bd459ed542c3"
      },
      "execution_count": null,
      "outputs": [
        {
          "output_type": "execute_result",
          "data": {
            "text/plain": [
              "(4803, 24)"
            ]
          },
          "metadata": {},
          "execution_count": 26
        }
      ]
    },
    {
      "cell_type": "code",
      "execution_count": null,
      "metadata": {
        "colab": {
          "base_uri": "https://localhost:8080/"
        },
        "id": "v6ebs-V3pk0c",
        "outputId": "6526d416-0209-49f1-f84e-5d1080f06fc6"
      },
      "outputs": [
        {
          "output_type": "execute_result",
          "data": {
            "text/plain": [
              "index                      0\n",
              "budget                     0\n",
              "genres                    28\n",
              "homepage                3091\n",
              "id                         0\n",
              "keywords                 412\n",
              "original_language          0\n",
              "original_title             0\n",
              "overview                   3\n",
              "popularity                 0\n",
              "production_companies       0\n",
              "production_countries       0\n",
              "release_date               1\n",
              "revenue                    0\n",
              "runtime                    2\n",
              "spoken_languages           0\n",
              "status                     0\n",
              "tagline                  844\n",
              "title                      0\n",
              "vote_average               0\n",
              "vote_count                 0\n",
              "cast                      43\n",
              "crew                       0\n",
              "director                  30\n",
              "dtype: int64"
            ]
          },
          "metadata": {},
          "execution_count": 6
        }
      ],
      "source": [
        "movies_data.isnull().sum()"
      ]
    },
    {
      "cell_type": "markdown",
      "metadata": {
        "id": "9WT52sJ_kKr3"
      },
      "source": [
        "# data Visulization"
      ]
    },
    {
      "cell_type": "code",
      "execution_count": null,
      "metadata": {
        "colab": {
          "base_uri": "https://localhost:8080/",
          "height": 482
        },
        "id": "5tLn8R80a9vE",
        "outputId": "1cb545a8-cefb-4a50-bb84-259c2abd43d6"
      },
      "outputs": [
        {
          "output_type": "display_data",
          "data": {
            "text/plain": [
              "<Figure size 864x432 with 2 Axes>"
            ],
            "image/png": "[encoded data removed]"
          },
          "metadata": {
            "needs_background": "light"
          }
        }
      ],
      "source": [
        "# cheacking missing values.\n",
        "\n",
        "plt.figure(figsize=(12,6))\n",
        "sns.heatmap(movies_data.isnull())\n",
        "plt.show()"
      ]
    },
    {
      "cell_type": "code",
      "execution_count": null,
      "metadata": {
        "colab": {
          "base_uri": "https://localhost:8080/"
        },
        "id": "SePeYWG0Xqp7",
        "outputId": "165c6334-f1e7-43d6-f641-06f34c750bd8"
      },
      "outputs": [
        {
          "output_type": "execute_result",
          "data": {
            "text/plain": [
              "Drama                                     370\n",
              "Comedy                                    282\n",
              "Drama Romance                             164\n",
              "Comedy Romance                            144\n",
              "Comedy Drama                              142\n",
              "                                         ... \n",
              "Adventure Comedy Crime Science Fiction      1\n",
              "Action Comedy Family Adventure              1\n",
              "Drama Adventure Western                     1\n",
              "Adventure Fantasy Action Romance            1\n",
              "Comedy Drama Romance TV Movie               1\n",
              "Name: genres, Length: 1168, dtype: int64"
            ]
          },
          "metadata": {},
          "execution_count": 8
        }
      ],
      "source": [
        "movies_data['genres'].value_counts()"
      ]
    },
    {
      "cell_type": "code",
      "execution_count": null,
      "metadata": {
        "colab": {
          "base_uri": "https://localhost:8080/",
          "height": 280
        },
        "id": "1JJ4h_Atj-L5",
        "outputId": "084c9f78-052e-49bc-d8fe-b86a3434ad84"
      },
      "outputs": [
        {
          "output_type": "display_data",
          "data": {
            "text/plain": [
              "<Figure size 1800x360 with 1 Axes>"
            ],
            "image/png": "[encoded data removed]"
          },
          "metadata": {
            "needs_background": "light"
          }
        }
      ],
      "source": [
        "plt.figure(figsize=(25,5))\n",
        "plt.bar(list(movies_data['genres'].value_counts()[0:10].keys()),list(movies_data['genres'].value_counts()[0:10]), color = ['r','c','pink','y','g','m','k','b'] )\n",
        "plt.show()"
      ]
    },
    {
      "cell_type": "code",
      "execution_count": null,
      "metadata": {
        "colab": {
          "base_uri": "https://localhost:8080/",
          "height": 404
        },
        "id": "Uc5ZLFqhuQ1q",
        "outputId": "f0bdae6e-b365-465d-ee01-368b81d17829"
      },
      "outputs": [
        {
          "output_type": "display_data",
          "data": {
            "text/plain": [
              "<Figure size 864x432 with 1 Axes>"
            ],
            "image/png": "[encoded data removed]"
          },
          "metadata": {
            "needs_background": "light"
          }
        }
      ],
      "source": [
        "# ploting the graph for top 10 most popular movies according to their popularity score .\n",
        "def plot():\n",
        "    popularity = movies_data.sort_values(\"popularity\", ascending=False)\n",
        "    plt.figure(figsize=(12, 6))\n",
        "    plt.barh(popularity[\"title\"].head(10), popularity[\"popularity\"].head(10), align=\"center\", color='green')\n",
        "    plt.gca().invert_yaxis()\n",
        "    plt.title(\"Top 10 movies\")\n",
        "    plt.xlabel(\"Popularity\")\n",
        "    plt.show()\n",
        "    \n",
        "plot()\n",
        "\n",
        "    \n",
        "\n"
      ]
    },
    {
      "cell_type": "code",
      "source": [
        "movies_data['vote_average'].value_counts()"
      ],
      "metadata": {
        "colab": {
          "base_uri": "https://localhost:8080/"
        },
        "id": "XJWJAVUhIhEs",
        "outputId": "645ab469-05f7-4d44-ed2d-54911e8a0f04"
      },
      "execution_count": null,
      "outputs": [
        {
          "output_type": "execute_result",
          "data": {
            "text/plain": [
              "6.5    216\n",
              "6.0    216\n",
              "6.7    213\n",
              "6.3    207\n",
              "6.1    201\n",
              "      ... \n",
              "2.7      1\n",
              "0.5      1\n",
              "2.2      1\n",
              "1.9      1\n",
              "2.4      1\n",
              "Name: vote_average, Length: 71, dtype: int64"
            ]
          },
          "metadata": {},
          "execution_count": 11
        }
      ]
    },
    {
      "cell_type": "code",
      "execution_count": null,
      "metadata": {
        "colab": {
          "base_uri": "https://localhost:8080/",
          "height": 280
        },
        "id": "bEQNNPUmlGMX",
        "outputId": "d5689440-9bf4-45a7-c268-16b954484c65"
      },
      "outputs": [
        {
          "output_type": "display_data",
          "data": {
            "text/plain": [
              "<Figure size 1800x360 with 1 Axes>"
            ],
            "image/png": "[encoded data removed]"
          },
          "metadata": {
            "needs_background": "light"
          }
        }
      ],
      "source": [
        "plt.figure(figsize=(25,5))\n",
        "plt.hist(movies_data['vote_average'],color='R',edgecolor='Black',bins=50)\n",
        "plt.show()"
      ]
    },
    {
      "cell_type": "code",
      "execution_count": null,
      "metadata": {
        "id": "SMVxyEpgVNsf",
        "colab": {
          "base_uri": "https://localhost:8080/"
        },
        "outputId": "592a62e8-ba1a-4e49-e19a-5777517221a8"
      },
      "outputs": [
        {
          "output_type": "stream",
          "name": "stdout",
          "text": [
            "['genres', 'keywords', 'tagline', 'cast', 'director']\n"
          ]
        }
      ],
      "source": [
        "# selecting the features for recommendation of movies.\n",
        "selected_features = ['genres','keywords','tagline','cast','director']\n",
        "print(selected_features)"
      ]
    },
    {
      "cell_type": "code",
      "execution_count": null,
      "metadata": {
        "id": "eJvHZ38mVNvp"
      },
      "outputs": [],
      "source": [
        "# replacing the null valuess with null string\n",
        "for feature in selected_features:\n",
        "  movies_data[feature] = movies_data[feature].fillna('')"
      ]
    },
    {
      "cell_type": "code",
      "execution_count": null,
      "metadata": {
        "id": "iiq2jd6kVNyf"
      },
      "outputs": [],
      "source": [
        "combined_features = movies_data['genres']+' '+movies_data['keywords']+' '+movies_data['tagline']+' '+movies_data['cast']+' '+movies_data['director']"
      ]
    },
    {
      "cell_type": "code",
      "execution_count": null,
      "metadata": {
        "id": "-O5_KeMTeedE",
        "colab": {
          "base_uri": "https://localhost:8080/"
        },
        "outputId": "21ad48b6-3785-4f00-f99a-0151a4bf0f24"
      },
      "outputs": [
        {
          "output_type": "execute_result",
          "data": {
            "text/plain": [
              "(4803,)"
            ]
          },
          "metadata": {},
          "execution_count": 16
        }
      ],
      "source": [
        "combined_features.shape"
      ]
    },
    {
      "cell_type": "markdown",
      "metadata": {
        "id": "8VuBJ_3cFCD-"
      },
      "source": []
    },
    {
      "cell_type": "markdown",
      "metadata": {
        "id": "PICgqROUjs3G"
      },
      "source": [
        "# feature_extraction"
      ]
    },
    {
      "cell_type": "code",
      "execution_count": null,
      "metadata": {
        "id": "dhFPPov0VN1T"
      },
      "outputs": [],
      "source": [
        "# converting the text data to feature vectors\n",
        "feature_extraction = TfidfVectorizer()\n"
      ]
    },
    {
      "cell_type": "code",
      "execution_count": null,
      "metadata": {
        "id": "qMyzWoTdgbHu"
      },
      "outputs": [],
      "source": [
        "feature_vectors=feature_extraction.fit_transform((combined_features).apply(lambda x: np.str_(x)))\n"
      ]
    },
    {
      "cell_type": "code",
      "execution_count": null,
      "metadata": {
        "id": "caTo0YNIjOSv",
        "colab": {
          "base_uri": "https://localhost:8080/"
        },
        "outputId": "e3562448-4a81-44e8-9fde-50a3cc84abb9"
      },
      "outputs": [
        {
          "output_type": "stream",
          "name": "stdout",
          "text": [
            "  (0, 2432)\t0.17272411194153\n",
            "  (0, 7755)\t0.1128035714854756\n",
            "  (0, 13024)\t0.1942362060108871\n",
            "  (0, 10229)\t0.16058685400095302\n",
            "  (0, 8756)\t0.22709015857011816\n",
            "  (0, 14608)\t0.15150672398763912\n",
            "  (0, 16668)\t0.19843263965100372\n",
            "  (0, 14064)\t0.20596090415084142\n",
            "  (0, 13319)\t0.2177470539412484\n",
            "  (0, 17290)\t0.20197912553916567\n",
            "  (0, 17007)\t0.23643326319898797\n",
            "  (0, 13349)\t0.15021264094167086\n",
            "  (0, 11503)\t0.27211310056983656\n",
            "  (0, 11192)\t0.09049319826481456\n",
            "  (0, 16998)\t0.1282126322850579\n",
            "  (0, 15261)\t0.07095833561276566\n",
            "  (0, 4945)\t0.24025852494110758\n",
            "  (0, 14271)\t0.21392179219912877\n",
            "  (0, 3225)\t0.24960162956997736\n",
            "  (0, 16587)\t0.12549432354918996\n",
            "  (0, 14378)\t0.33962752210959823\n",
            "  (0, 5836)\t0.1646750903586285\n",
            "  (0, 3065)\t0.22208377802661425\n",
            "  (0, 3678)\t0.21392179219912877\n",
            "  (0, 5437)\t0.1036413987316636\n",
            "  :\t:\n",
            "  (4801, 17266)\t0.2886098184932947\n",
            "  (4801, 4835)\t0.24713765026963996\n",
            "  (4801, 403)\t0.17727585190343226\n",
            "  (4801, 6935)\t0.2886098184932947\n",
            "  (4801, 11663)\t0.21557500762727902\n",
            "  (4801, 1672)\t0.1564793427630879\n",
            "  (4801, 10929)\t0.13504166990041588\n",
            "  (4801, 7474)\t0.11307961713172225\n",
            "  (4801, 3796)\t0.3342808988877418\n",
            "  (4802, 6996)\t0.5700048226105303\n",
            "  (4802, 5367)\t0.22969114490410403\n",
            "  (4802, 3654)\t0.262512960498006\n",
            "  (4802, 2425)\t0.24002350969074696\n",
            "  (4802, 4608)\t0.24002350969074696\n",
            "  (4802, 6417)\t0.21753405888348784\n",
            "  (4802, 4371)\t0.1538239182675544\n",
            "  (4802, 12989)\t0.1696476532191718\n",
            "  (4802, 1316)\t0.1960747079005741\n",
            "  (4802, 4528)\t0.19504460807622875\n",
            "  (4802, 3436)\t0.21753405888348784\n",
            "  (4802, 6155)\t0.18056463596934083\n",
            "  (4802, 4980)\t0.16078053641367315\n",
            "  (4802, 2129)\t0.3099656128577656\n",
            "  (4802, 4518)\t0.16784466610624255\n",
            "  (4802, 11161)\t0.17867407682173203\n"
          ]
        }
      ],
      "source": [
        "print(feature_vectors)"
      ]
    },
    {
      "cell_type": "markdown",
      "metadata": {
        "id": "IvquRWZpjiO9"
      },
      "source": [
        "##Cosine Similarity"
      ]
    },
    {
      "cell_type": "code",
      "execution_count": null,
      "metadata": {
        "id": "0muajbsyVN6w"
      },
      "outputs": [],
      "source": [
        "# getting the similarity scores using cosine similarity\n",
        "similarity = cosine_similarity(feature_vectors)"
      ]
    },
    {
      "cell_type": "code",
      "execution_count": null,
      "metadata": {
        "id": "KvKItf4qkeZS",
        "colab": {
          "base_uri": "https://localhost:8080/"
        },
        "outputId": "657992e6-b4e3-43e0-87d8-1ad5d70f9029"
      },
      "outputs": [
        {
          "output_type": "stream",
          "name": "stdout",
          "text": [
            "(4803, 4803)\n"
          ]
        }
      ],
      "source": [
        "print(similarity.shape)"
      ]
    },
    {
      "cell_type": "code",
      "execution_count": null,
      "metadata": {
        "id": "O7ncqNx7V2N3",
        "colab": {
          "base_uri": "https://localhost:8080/"
        },
        "outputId": "82d91bee-0ce7-4dcc-e6c1-13c2f1eac056"
      },
      "outputs": [
        {
          "output_type": "stream",
          "name": "stdout",
          "text": [
            " Enter your favourite movie name : Avengers\n",
            "Movies suggested for you : \n",
            "\n",
            "1 . The Avengers\n",
            "2 . Avengers: Age of Ultron\n",
            "3 . Captain America: The Winter Soldier\n",
            "4 . Captain America: Civil War\n",
            "5 . Iron Man 2\n",
            "6 . Thor: The Dark World\n",
            "7 . X-Men\n",
            "8 . The Incredible Hulk\n",
            "9 . X-Men: Apocalypse\n"
          ]
        }
      ],
      "source": [
        "## creating a user defind function for movie recomandation.\n",
        "movie_name = input(' Enter your favourite movie name : ')\n",
        "\n",
        "\n",
        "# creating a list with all the movie names given in the data.\n",
        "list_of_titles = movies_data['title'].tolist()\n",
        "\n",
        "\n",
        "# finding the close match for the movie name given by the user with the help of difflib function.\n",
        "\n",
        "finds_close_match = difflib.get_close_matches(movie_name, list_of_titles)\n",
        "\n",
        "\n",
        "close_match = finds_close_match[0]\n",
        "\n",
        "# find the index of the movie with title of movie.\n",
        "\n",
        "index_of_movie = movies_data[movies_data.title == close_match]['index'].values[0]\n",
        "\n",
        "\n",
        "similarity_score = list(enumerate(similarity[index_of_movie]))\n",
        "\n",
        "# sorting the movies based on their similarity score.\n",
        "\n",
        "sorted_similar_movies = sorted(similarity_score, key = lambda x:x[1], reverse = True) \n",
        "\n",
        "print('Movies suggested for you : \\n')\n",
        "\n",
        "i = 1\n",
        "\n",
        "for movie in sorted_similar_movies:\n",
        "  index = movie[0]\n",
        "  title_from_index = movies_data[movies_data.index==index]['title'].values[0]\n",
        "  if (i<10):\n",
        "    print(i, '.',title_from_index)\n",
        "    i+=1"
      ]
    },
    {
      "cell_type": "code",
      "source": [],
      "metadata": {
        "id": "HnNibGZLIYNI"
      },
      "execution_count": null,
      "outputs": []
    }
  ],
  "metadata": {
    "colab": {
      "provenance": []
    },
    "kernelspec": {
      "display_name": "Python 3",
      "name": "python3"
    },
    "language_info": {
      "name": "python"
    }
  },
  "nbformat": 4,
  "nbformat_minor": 0
}